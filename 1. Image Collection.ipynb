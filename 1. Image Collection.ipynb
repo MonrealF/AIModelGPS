{
 "cells": [
  {
   "cell_type": "markdown",
   "metadata": {},
   "source": [
    "# 1. Import Dependencies"
   ]
  },
  {
   "cell_type": "markdown",
   "metadata": {},
   "source": [
    "Mediante estos cuadernos de Jupyter se estará trabajando el modelo de detección de objetos con TenserFlow para entrenar y aprovechar al máximo el modelo."
   ]
  },
  {
   "cell_type": "code",
   "execution_count": 1,
   "metadata": {},
   "outputs": [
    {
     "name": "stdout",
     "output_type": "stream",
     "text": [
      "Requirement already satisfied: opencv-python in d:\\youtube\\od\\tfodcourse\\tfod\\lib\\site-packages (4.5.1.48)\n",
      "Requirement already satisfied: numpy>=1.14.5 in d:\\youtube\\od\\tfodcourse\\tfod\\lib\\site-packages (from opencv-python) (1.20.2)\n"
     ]
    }
   ],
   "source": [
    "#!pip install opencv-python"
   ]
  },
  {
   "cell_type": "markdown",
   "metadata": {},
   "source": [
    "+ OpenCV (cv2): Se utiliza para procesar imágenes y videos. Puedes usarlo para cargar imágenes, realizar operaciones de procesamiento de imágenes como el cambio de tamaño, la conversión de colores, la detección de bordes, entre otros, y también para mostrar resultados visuales.\n",
    "\n",
    "+ UUID: Esta biblioteca te permite generar identificadores únicos. Podrías usarlo, por ejemplo, para asignar identificadores únicos a tus imágenes de entrenamiento o a los objetos detectados.\n",
    "\n",
    "+ Operating System (os): Se utiliza para interactuar con el sistema operativo. Puedes usarlo para manipular archivos y directorios, como crear carpetas para organizar tus conjuntos de datos de entrenamiento y pruebas, o guardar modelos entrenados.\n",
    "\n",
    "+ Time: Te permite medir el tiempo de ejecución de tu código. Esto puede ser útil para optimizar el rendimiento de tu modelo o para calcular métricas como el tiempo de entrenamiento."
   ]
  },
  {
   "cell_type": "code",
   "execution_count": 2,
   "metadata": {},
   "outputs": [],
   "source": [
    "# Import opencv\n",
    "# pip install cv3\n",
    "import cv2 \n",
    "\n",
    "# Import uuid\n",
    "import uuid\n",
    "\n",
    "# Import Operating System\n",
    "import os\n",
    "\n",
    "# Import time\n",
    "import time"
   ]
  },
  {
   "cell_type": "markdown",
   "metadata": {},
   "source": [
    "# 2. Define Images to Collect"
   ]
  },
  {
   "cell_type": "markdown",
   "metadata": {},
   "source": [
    "+ Estas líneas de código establecen las etiquetas de los objetos que deseas detectar y la cantidad de imágenes que usarás para entrenar tu modelo en cada una de esas categorías."
   ]
  },
  {
   "cell_type": "code",
   "execution_count": 15,
   "metadata": {},
   "outputs": [],
   "source": [
    "labels = ['thumbsup', 'thumbsdown', 'thankyou', 'livelong']\n",
    "number_imgs = 5"
   ]
  },
  {
   "cell_type": "markdown",
   "metadata": {},
   "source": [
    "Se establecen las etiquetas de los objetos que deseas detectar y la cantidad de imágenes que usarás para entrenar tu modelo en cada una de esas categorías."
   ]
  },
  {
   "cell_type": "markdown",
   "metadata": {},
   "source": [
    "# 3. Setup Folders "
   ]
  },
  {
   "cell_type": "markdown",
   "metadata": {},
   "source": [
    "En este paso necesitamos crear una estructura de carpetas para almacenar las imágenes recolectadas, asegurándose de que cada etiqueta tenga su propia carpeta dentro de la carpeta IMAGES_PATH. "
   ]
  },
  {
   "cell_type": "code",
   "execution_count": 16,
   "metadata": {},
   "outputs": [],
   "source": []
  },
  {
   "cell_type": "code",
   "execution_count": 17,
   "metadata": {},
   "outputs": [],
   "source": []
  },
  {
   "cell_type": "markdown",
   "metadata": {},
   "source": [
    "# 4. Capture Images"
   ]
  },
  {
   "cell_type": "markdown",
   "metadata": {},
   "source": [
    "# 5. Image Labelling"
   ]
  },
  {
   "cell_type": "markdown",
   "metadata": {},
   "source": [
    "# OPTIONAL - 7. Compress them for Colab Training"
   ]
  }
 ],
 "metadata": {
  "kernelspec": {
   "display_name": "tfod",
   "language": "python",
   "name": "tfod"
  },
  "language_info": {
   "codemirror_mode": {
    "name": "ipython",
    "version": 3
   },
   "file_extension": ".py",
   "mimetype": "text/x-python",
   "name": "python",
   "nbconvert_exporter": "python",
   "pygments_lexer": "ipython3",
   "version": "3.7.3"
  }
 },
 "nbformat": 4,
 "nbformat_minor": 2
}
