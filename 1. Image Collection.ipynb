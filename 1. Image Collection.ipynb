{
 "cells": [
  {
   "cell_type": "markdown",
   "metadata": {},
   "source": [
    "# 1. Import Dependencies"
   ]
  },
  {
   "cell_type": "code",
   "execution_count": 1,
   "metadata": {},
   "outputs": [
    {
     "name": "stdout",
     "output_type": "stream",
     "text": [
      "Requirement already satisfied: opencv-python in d:\\youtube\\od\\tfodcourse\\tfod\\lib\\site-packages (4.5.1.48)\n",
      "Requirement already satisfied: numpy>=1.14.5 in d:\\youtube\\od\\tfodcourse\\tfod\\lib\\site-packages (from opencv-python) (1.20.2)\n"
     ]
    }
   ],
   "source": [
    "#!pip install opencv-python"
   ]
  },
  {
   "cell_type": "code",
   "execution_count": 1,
   "metadata": {},
   "outputs": [],
   "source": [
    "# Import opencv\n",
    "import cv2 \n",
    "\n",
    "# Import uuid\n",
    "import uuid\n",
    "\n",
    "# Import Operating System\n",
    "import os\n",
    "#obaooihoibooiihohouhoihhohla \n",
    "# Import time\n",
    "import time"
   ]
  },
  {
   "cell_type": "markdown",
   "metadata": {},
   "source": [
    "# 2. Define Images to Collect"
   ]
  },
  {
   "cell_type": "code",
   "execution_count": 2,
   "metadata": {},
   "outputs": [],
   "source": [
    "labels = ['thumbsup', 'thumbsdown', 'thankyou', 'livelong']\n",
    "number_imgs = 5\n",
    "\n",
    "#Pulgar arriba, pulgar abajo, gracias, livelong "
   ]
  },
  {
   "cell_type": "markdown",
   "metadata": {},
   "source": [
    "# 3. Setup Folders "
   ]
  },
  {
   "cell_type": "markdown",
   "metadata": {},
   "source": [
    "Creamos una ruta de archivos hasta la carpeta de imagenes recopiladas dentro de Tenswrflow"
   ]
  },
  {
   "cell_type": "code",
   "execution_count": 3,
   "metadata": {},
   "outputs": [],
   "source": [
    "IMAGES_PATH = os.path.join('Tensorflow', 'workspace', 'images', 'collectedimages')"
   ]
  },
  {
   "cell_type": "code",
   "execution_count": 4,
   "metadata": {},
   "outputs": [],
   "source": [
    "if not os.path.exists(IMAGES_PATH):\n",
    "    if os.name == 'posix':\n",
    "        !mkdir -p {IMAGES_PATH}\n",
    "    if os.name == 'nt':\n",
    "         !mkdir {IMAGES_PATH}\n",
    "#iteramos sobre cada una de las etiquetas\n",
    "for label in labels:\n",
    "    #creamos y nos movemos a la ruta correspondiente\n",
    "    path = os.path.join(IMAGES_PATH, label) # Combina la ruta de la carpeta de imágenes \n",
    "    #(IMAGES_PATH) con el nombre de la etiqueta para formar la ruta completa de la carpeta donde se guardarán las imágenes de esa etiqueta.\n",
    "    if not os.path.exists(path):\n",
    "        !mkdir {path}\n",
    "        # Si la carpeta no existe, se ejecuta el comando mkdir para crearla."
   ]
  },
  {
   "cell_type": "markdown",
   "metadata": {},
   "source": [
    "# 4. Capture Images"
   ]
  },
  {
   "cell_type": "markdown",
   "metadata": {},
   "source": [
    "## En esta parte del codigo ya toma imagenes de la camara y las guarda en tiempo real.\n",
    "\n",
    "Se importan las bibliotecas necesarias: cv2 para trabajar con la cámara y las imágenes, os para operaciones del sistema de archivos, time para manejar el tiempo y uuid para generar identificadores únicos.\n",
    "+ Se itera sobre cada etiqueta en una lista de etiquetas.\n",
    "+ Se inicializa la captura de video desde la cámara.\n",
    "+ Se espera 5 segundos antes de comenzar la recolección de imágenes para permitir que el usuario se prepare.\n",
    "+ Se itera sobre un rango de números de imágenes especificado.\n",
    "+ Se lee un fotograma (imagen) de la cámara.\n",
    "+ Se construye un nombre de archivo único para la imagen utilizando la etiqueta y un identificador único.\n",
    "+ Se guarda la imagen capturada en el archivo especificado.\n",
    "+ Se muestra la imagen capturada en una ventana con el título 'frame'.\n",
    "+ Se espera 2 segundos antes de capturar la siguiente imagen.\n",
    "+ Se espera hasta que se presione la tecla 'q' en la ventana de visualización de la imagen. Si se presiona 'q', se sale del bucle de captura de imágenes.\n",
    "+ Se liberan los recursos utilizados por la captura de video.\n",
    "+ Se cierran todas las ventanas creadas por OpenCV.\n",
    "\n",
    "Este proceso se repite para cada etiqueta en la lista de etiquetas, lo que permite recolectar imágenes para cada clase especificada."
   ]
  },
  {
   "cell_type": "code",
   "execution_count": 5,
   "metadata": {},
   "outputs": [
    {
     "name": "stdout",
     "output_type": "stream",
     "text": [
      "Collecting images for thumbsup\n",
      "Collecting image 0\n",
      "Collecting image 1\n",
      "Collecting image 2\n",
      "Collecting image 3\n",
      "Collecting image 4\n",
      "Collecting images for thumbsdown\n",
      "Collecting image 0\n",
      "Collecting image 1\n",
      "Collecting image 2\n",
      "Collecting image 3\n",
      "Collecting image 4\n",
      "Collecting images for thankyou\n",
      "Collecting image 0\n",
      "Collecting image 1\n",
      "Collecting image 2\n",
      "Collecting image 3\n",
      "Collecting image 4\n",
      "Collecting images for livelong\n",
      "Collecting image 0\n",
      "Collecting image 1\n",
      "Collecting image 2\n",
      "Collecting image 3\n",
      "Collecting image 4\n"
     ]
    }
   ],
   "source": [
    "import cv2\n",
    "import os\n",
    "import time\n",
    "import uuid\n",
    "\n",
    "# Iterar sobre cada etiqueta en la lista de etiquetas\n",
    "for label in labels:\n",
    "    # Inicializar la captura de video desde la cámara\n",
    "    cap = cv2.VideoCapture(0)\n",
    "    \n",
    "    # Imprimir un mensaje indicando para qué etiqueta se están recolectando imágenes\n",
    "    print('Collecting images for {}'.format(label))\n",
    "    \n",
    "    # Esperar 5 segundos antes de comenzar la recolección de imágenes\n",
    "    time.sleep(5)\n",
    "    \n",
    "    # Iterar sobre un rango de números de imágenes especificado por number_imgs\n",
    "    for imgnum in range(number_imgs):\n",
    "        # Imprimir un mensaje indicando el número de imagen actual\n",
    "        print('Collecting image {}'.format(imgnum))\n",
    "        \n",
    "        # Leer un fotograma (imagen) de la cámara\n",
    "        ret, frame = cap.read()\n",
    "        \n",
    "        # Construir el nombre de archivo para la imagen utilizando la etiqueta y un identificador único\n",
    "        imgname = os.path.join(IMAGES_PATH, label, label + '.' + '{}.jpg'.format(str(uuid.uuid1())))\n",
    "        \n",
    "        # Guardar la imagen capturada en el archivo especificado\n",
    "        cv2.imwrite(imgname, frame)\n",
    "        \n",
    "        # Mostrar la imagen capturada en una ventana con el título 'frame'\n",
    "        cv2.imshow('frame', frame)\n",
    "        \n",
    "        # Esperar 2 segundos antes de capturar la siguiente imagen\n",
    "        time.sleep(2)\n",
    "\n",
    "        # Esperar hasta que se presione la tecla 'q' en la ventana de visualización de la imagen\n",
    "        # Si se presiona 'q', salir del bucle de captura de imágenes\n",
    "        if cv2.waitKey(1) & 0xFF == ord('q'):\n",
    "            break\n",
    "            \n",
    "    # Liberar los recursos utilizados por la captura de video\n",
    "    cap.release()\n",
    "    \n",
    "# Cerrar todas las ventanas creadas por OpenCV\n",
    "cv2.destroyAllWindows()\n"
   ]
  },
  {
   "cell_type": "markdown",
   "metadata": {},
   "source": [
    "# 5. Image Labelling"
   ]
  },
  {
   "cell_type": "code",
   "execution_count": 10,
   "metadata": {},
   "outputs": [
    {
     "name": "stdout",
     "output_type": "stream",
     "text": [
      "Collecting pyqt5\n",
      "  Using cached PyQt5-5.15.4-cp36.cp37.cp38.cp39-none-win_amd64.whl (6.8 MB)\n",
      "Collecting lxml\n",
      "  Using cached lxml-4.6.3-cp37-cp37m-win_amd64.whl (3.5 MB)\n",
      "Collecting PyQt5-sip<13,>=12.8\n",
      "  Using cached PyQt5_sip-12.8.1-cp37-cp37m-win_amd64.whl (62 kB)\n",
      "Collecting PyQt5-Qt5>=5.15\n",
      "  Using cached PyQt5_Qt5-5.15.2-py3-none-win_amd64.whl (50.1 MB)\n",
      "Installing collected packages: PyQt5-sip, PyQt5-Qt5, pyqt5, lxml\n",
      "Successfully installed PyQt5-Qt5-5.15.2 PyQt5-sip-12.8.1 lxml-4.6.3 pyqt5-5.15.4\n"
     ]
    }
   ],
   "source": [
    "#!pip install --upgrade pyqt5 lxml\n",
    "\n",
    "# pyqt5 permite la creacion de interfaces graficas en python\n",
    "# lxml nos ayuda a trabajar con archivos html"
   ]
  },
  {
   "cell_type": "code",
   "execution_count": 11,
   "metadata": {},
   "outputs": [],
   "source": [
    "LABELIMG_PATH = os.path.join('Tensorflow', 'labelimg') #Guarda y recopila los archivos de nuevo\n",
    "\n"
   ]
  },
  {
   "cell_type": "markdown",
   "metadata": {},
   "source": [
    "# Lo consecuente en este paso sera darle imagenes del sistema "
   ]
  },
  {
   "cell_type": "markdown",
   "metadata": {},
   "source": [
    "# 6. Move them into a Training and Testing Partition"
   ]
  },
  {
   "cell_type": "markdown",
   "metadata": {},
   "source": [
    "# 7. Compress them for Colab Training"
   ]
  }
 ],
 "metadata": {
  "kernelspec": {
   "display_name": "Python 3",
   "language": "python",
   "name": "python3"
  },
  "language_info": {
   "codemirror_mode": {
    "name": "ipython",
    "version": 3
   },
   "file_extension": ".py",
   "mimetype": "text/x-python",
   "name": "python",
   "nbconvert_exporter": "python",
   "pygments_lexer": "ipython3",
   "version": "3.10.11"
  }
 },
 "nbformat": 4,
 "nbformat_minor": 2
}
