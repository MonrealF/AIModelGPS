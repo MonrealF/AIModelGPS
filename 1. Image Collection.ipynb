{
 "cells": [
  {
   "cell_type": "markdown",
   "metadata": {},
   "source": [
    "# 1. Import Dependencies"
   ]
  },
  {
   "cell_type": "code",
   "execution_count": 1,
   "metadata": {},
   "outputs": [
    {
     "name": "stdout",
     "output_type": "stream",
     "text": [
      "Requirement already satisfied: opencv-python in d:\\youtube\\od\\tfodcourse\\tfod\\lib\\site-packages (4.5.1.48)\n",
      "Requirement already satisfied: numpy>=1.14.5 in d:\\youtube\\od\\tfodcourse\\tfod\\lib\\site-packages (from opencv-python) (1.20.2)\n"
     ]
    }
   ],
   "source": [
    "#!pip install opencv-python"
   ]
  },
  {
   "cell_type": "markdown",
   "metadata": {},
   "source": [
    "En esta primera celda de código, importamos algunas bibliotecas que serán necesarias para nuestro proyecto:\n",
    "\n",
    "+ cv2: Importamos la biblioteca OpenCV, que es una biblioteca de visión por computadora ampliamente utilizada para procesamiento de imágenes y videos.\n",
    "+ uuid: Importamos la biblioteca UUID, que nos permite generar identificadores únicos universales.\n",
    "+ os: Importamos la biblioteca del sistema operativo, que nos proporciona funciones para interactuar con el sistema operativo subyacente, como manipulación de archivos y directorios.\n",
    "+ time: Importamos la biblioteca de tiempo, que nos proporciona funciones para medir el tiempo y realizar operaciones relacionadas con el tiempo.\n",
    "\n",
    "Estas bibliotecas nos proporcionarán las herramientas necesarias para trabajar con imágenes, generar identificadores únicos, manipular archivos y medir el tiempo de ejecución de nuestro código."
   ]
  },
  {
   "cell_type": "code",
   "execution_count": 1,
   "metadata": {},
   "outputs": [],
   "source": [
    "# Import opencv\n",
    "import cv2 \n",
    "\n",
    "# Import uuid\n",
    "import uuid\n",
    "\n",
    "# Import Operating System\n",
    "import os\n",
    "\n",
    "# Import time\n",
    "import time"
   ]
  },
  {
   "cell_type": "markdown",
   "metadata": {},
   "source": [
    "# 2. Define Images to Collect"
   ]
  },
  {
   "cell_type": "markdown",
   "metadata": {},
   "source": [
    "\n",
    "En esta celda, hemos definido dos variables:\n",
    "\n",
    "+ labels: Una lista de cadenas que contiene las etiquetas de las clases que queremos reconocer en nuestras imágenes. En este caso, las etiquetas son 'thumbsup', 'thumbsdown', 'thankyou' y 'livelong'.\n",
    "+ number_imgs: Un entero que indica el número de imágenes que queremos capturar para cada clase. En este caso, se han especificado 5 imágenes por clase.\n",
    "\n",
    "Estas variables serán útiles más adelante cuando capturemos las imágenes y las etiquetemos"
   ]
  },
  {
   "cell_type": "code",
   "execution_count": 2,
   "metadata": {},
   "outputs": [],
   "source": [
    "labels = ['thumbsup', 'thumbsdown', 'thankyou', 'livelong']\n",
    "number_imgs = 5"
   ]
  },
  {
   "cell_type": "markdown",
   "metadata": {},
   "source": [
    "# 3. Setup Folders "
   ]
  },
  {
   "cell_type": "markdown",
   "metadata": {},
   "source": [
    "En esta celda, hemos definido una variable llamada IMAGES_PATH. Esta variable contiene la ruta al directorio donde almacenaremos las imágenes capturadas. La ruta se ha construido utilizando la función os.path.join() para asegurar la portabilidad del código entre diferentes sistemas operativos.\n",
    "\n",
    "La ruta está compuesta por los siguientes componentes:\n",
    "\n",
    "+ 'Tensorflow': Nombre de la carpeta principal.\n",
    "+ 'workspace': Nombre de la carpeta de trabajo dentro de la carpeta principal.\n",
    "+ 'images': Nombre de la carpeta donde se almacenarán las imágenes dentro de la carpeta de trabajo.\n",
    "+ 'collectedimages': Nombre de la carpeta específica donde se almacenarán las imágenes capturadas dentro de la carpeta de imágenes."
   ]
  },
  {
   "cell_type": "code",
   "execution_count": 3,
   "metadata": {},
   "outputs": [],
   "source": [
    "IMAGES_PATH = os.path.join('Tensorflow', 'workspace', 'images', 'collectedimages')"
   ]
  },
  {
   "cell_type": "markdown",
   "metadata": {},
   "source": [
    "En este bloque de código, se realiza la creación de los directorios necesarios para almacenar las imágenes capturadas. Aquí está lo que hace cada parte:\n",
    "\n",
    "1. Primero, se verifica si el directorio IMAGES_PATH no existe utilizando la función os.path.exists().\n",
    "2. Si IMAGES_PATH no existe, se procede a crearlo:\n",
    "3. En sistemas operativos tipo Unix (como Linux o macOS), se utiliza el comando mkdir -p para crear todos los directorios necesarios, incluyendo los directorios padres si no existen.\n",
    "4. En sistemas operativos Windows, se utiliza el comando mkdir para crear el directorio IMAGES_PATH.\n",
    "5. Luego, se itera sobre cada etiqueta en la lista labels:\n",
    "6. Se construye la ruta completa para la etiqueta actual utilizando os.path.join() y se asigna a la variable path.\n",
    "7. Se verifica si el directorio correspondiente a la etiqueta actual no existe.\n",
    "8. Si el directorio no existe, se crea utilizando el comando mkdir.\n",
    "\n",
    "Este bloque de código asegura que todos los directorios necesarios para almacenar las imágenes estén creados antes de comenzar a capturarlas."
   ]
  },
  {
   "cell_type": "code",
   "execution_count": 4,
   "metadata": {},
   "outputs": [],
   "source": [
    "if not os.path.exists(IMAGES_PATH):\n",
    "    if os.name == 'posix':\n",
    "        !mkdir -p {IMAGES_PATH}\n",
    "    if os.name == 'nt':\n",
    "         !mkdir {IMAGES_PATH}\n",
    "for label in labels:\n",
    "    path = os.path.join(IMAGES_PATH, label)\n",
    "    if not os.path.exists(path):\n",
    "        !mkdir {path}"
   ]
  },
  {
   "cell_type": "markdown",
   "metadata": {},
   "source": [
    "# 4. Capture Images"
   ]
  },
  {
   "cell_type": "markdown",
   "metadata": {},
   "source": [
    "En este fragmento de código, estamos capturando imágenes utilizando la cámara web para cada una de las etiquetas definidas en la lista `labels`. Aquí está el desglose de lo que hace cada línea:\n",
    "\n",
    "1. Se inicia un bucle `for` para iterar sobre cada etiqueta en la lista `labels`.\n",
    "2. Se abre la cámara web utilizando `cv2.VideoCapture(0)`. El número 0 indica que estamos utilizando la cámara web predeterminada del sistema.\n",
    "3. Se imprime un mensaje indicando la etiqueta para la cual se están recopilando las imágenes.\n",
    "4. Se pausa la ejecución durante 5 segundos utilizando `time.sleep(5)`. Esto permite al usuario prepararse antes de comenzar a capturar imágenes.\n",
    "5. Se inicia otro bucle `for` para capturar un número específico de imágenes para la etiqueta actual.\n",
    "6. Se imprime un mensaje indicando el número de imagen actual que se está capturando.\n",
    "7. Se lee un fotograma de la cámara web utilizando `cap.read()`. El resultado se almacena en las variables `ret` (un indicador de si la lectura fue exitosa) y `frame` (la imagen capturada).\n",
    "8. Se genera un nombre único para la imagen utilizando `uuid.uuid1()` y se guarda en la variable `imgname`.\n",
    "9. Se guarda la imagen capturada en el directorio correspondiente utilizando `cv2.imwrite()`.\n",
    "10. Se muestra la imagen capturada en una ventana con el título 'frame' utilizando `cv2.imshow()`.\n",
    "11. Se pausa la ejecución durante 2 segundos utilizando `time.sleep(2)`. Esto da tiempo al usuario para ver la imagen capturada antes de capturar la siguiente.\n",
    "12. Se verifica si se presionó la tecla 'q' utilizando `cv2.waitKey(1) & 0xFF == ord('q')`. Si se presiona 'q', se rompe el bucle y se detiene la captura de imágenes.\n",
    "13. Se libera la cámara utilizando `cap.release()` y se cierran todas las ventanas utilizando `cv2.destroyAllWindows()`.\n",
    "\n",
    "Este bloque de código permite capturar imágenes para cada etiqueta especificada en la lista `labels`. Cada imagen se guarda en su directorio correspondiente dentro de `IMAGES_PATH`."
   ]
  },
  {
   "cell_type": "code",
   "execution_count": 18,
   "metadata": {},
   "outputs": [
    {
     "name": "stdout",
     "output_type": "stream",
     "text": [
      "Collecting images for thumbsup\n",
      "Collecting image 0\n",
      "Collecting image 1\n",
      "Collecting image 2\n",
      "Collecting image 3\n",
      "Collecting image 4\n"
     ]
    }
   ],
   "source": [
    "for label in labels:\n",
    "    cap = cv2.VideoCapture(0)\n",
    "    print('Collecting images for {}'.format(label))\n",
    "    time.sleep(5)\n",
    "    for imgnum in range(number_imgs):\n",
    "        print('Collecting image {}'.format(imgnum))\n",
    "        ret, frame = cap.read()\n",
    "        imgname = os.path.join(IMAGES_PATH,label,label+'.'+'{}.jpg'.format(str(uuid.uuid1())))\n",
    "        cv2.imwrite(imgname, frame)\n",
    "        cv2.imshow('frame', frame)\n",
    "        time.sleep(2)\n",
    "\n",
    "        if cv2.waitKey(1) & 0xFF == ord('q'):\n",
    "            break\n",
    "cap.release()\n",
    "cv2.destroyAllWindows()"
   ]
  },
  {
   "cell_type": "markdown",
   "metadata": {},
   "source": [
    "# 5. Image Labelling"
   ]
  },
  {
   "cell_type": "markdown",
   "metadata": {},
   "source": [
    "En esta celda, estamos instalando dos paquetes adicionales que necesitaremos para trabajar con objetos de TensorFlow en nuestras imágenes. \n",
    "\n",
    "1. `#!pip install --upgrade pyqt5 lxml`: Utilizamos el comando de instalación de pip `pip install` para instalar o actualizar dos paquetes:\n",
    "   - `pyqt5`: Este paquete proporciona enlaces Python para Qt, un conjunto de herramientas y bibliotecas para crear interfaces gráficas de usuario (GUI).\n",
    "   - `lxml`: Este paquete es una biblioteca de Python que facilita el análisis y la manipulación de archivos XML y HTML.\n",
    "\n",
    "Estos paquetes son necesarios para trabajar con el módulo de detección de objetos de TensorFlow, que utilizaremos para detectar objetos en nuestras imágenes más adelante en el código.\n"
   ]
  },
  {
   "cell_type": "code",
   "execution_count": 10,
   "metadata": {},
   "outputs": [
    {
     "name": "stdout",
     "output_type": "stream",
     "text": [
      "Collecting pyqt5\n",
      "  Using cached PyQt5-5.15.4-cp36.cp37.cp38.cp39-none-win_amd64.whl (6.8 MB)\n",
      "Collecting lxml\n",
      "  Using cached lxml-4.6.3-cp37-cp37m-win_amd64.whl (3.5 MB)\n",
      "Collecting PyQt5-sip<13,>=12.8\n",
      "  Using cached PyQt5_sip-12.8.1-cp37-cp37m-win_amd64.whl (62 kB)\n",
      "Collecting PyQt5-Qt5>=5.15\n",
      "  Using cached PyQt5_Qt5-5.15.2-py3-none-win_amd64.whl (50.1 MB)\n",
      "Installing collected packages: PyQt5-sip, PyQt5-Qt5, pyqt5, lxml\n",
      "Successfully installed PyQt5-Qt5-5.15.2 PyQt5-sip-12.8.1 lxml-4.6.3 pyqt5-5.15.4\n"
     ]
    }
   ],
   "source": [
    "#!pip install --upgrade pyqt5 lxml"
   ]
  },
  {
   "cell_type": "markdown",
   "metadata": {},
   "source": [
    "En este bloque de código, estamos configurando la herramienta LabelImg, que nos permitirá etiquetar manualmente las imágenes que hemos capturado. \n",
    "\n",
    "1. `LABELIMG_PATH = os.path.join('Tensorflow', 'labelimg')`: Se define la variable `LABELIMG_PATH`, que contiene la ruta al directorio donde se almacenará la herramienta LabelImg. Esta ruta se construye utilizando la función `os.path.join()` para asegurar la portabilidad del código entre diferentes sistemas operativos.\n",
    "\n",
    "2. Se verifica si el directorio `LABELIMG_PATH` no existe utilizando la función `os.path.exists()`.\n",
    "\n",
    "3. Si el directorio `LABELIMG_PATH` no existe, se crea utilizando el comando `mkdir` y se clona el repositorio de GitHub que contiene la herramienta LabelImg utilizando el comando `git clone`. Esto se realiza en una sola línea utilizando la sintaxis de comandos del sistema operativo dentro de una cadena de texto precedida por el signo de exclamación `!`, que indica que se ejecutará como un comando en la terminal.\n",
    "\n",
    "Con este bloque de código, aseguramos que la herramienta LabelImg esté disponible en el directorio especificado para que podamos utilizarla para etiquetar nuestras imágenes.\n",
    "\n"
   ]
  },
  {
   "cell_type": "code",
   "execution_count": 5,
   "metadata": {},
   "outputs": [],
   "source": [
    "LABELIMG_PATH = os.path.join('Tensorflow', 'labelimg')"
   ]
  },
  {
   "cell_type": "code",
   "execution_count": 6,
   "metadata": {},
   "outputs": [
    {
     "name": "stderr",
     "output_type": "stream",
     "text": [
      "\"git\" no se reconoce como un comando interno o externo,\n",
      "programa o archivo por lotes ejecutable.\n"
     ]
    }
   ],
   "source": [
    "if not os.path.exists(LABELIMG_PATH):\n",
    "    !mkdir {LABELIMG_PATH}\n",
    "    !git clone https://github.com/tzutalin/labelImg {LABELIMG_PATH}"
   ]
  },
  {
   "cell_type": "markdown",
   "metadata": {},
   "source": [
    "En esta sección del código, estamos realizando algunas configuraciones adicionales dependiendo del sistema operativo:\n",
    "\n",
    "1. `if os.name == 'posix':`: Se verifica si el sistema operativo es tipo Unix (como Linux o macOS) utilizando `os.name`. En caso afirmativo, se ejecuta el comando `make qt5py3`. Este comando compila los archivos de la interfaz de usuario de Qt para Python 3.\n",
    "\n",
    "2. `if os.name =='nt':`: Se verifica si el sistema operativo es Windows utilizando `os.name`. En caso afirmativo, se cambia al directorio de `LABELIMG_PATH` y se ejecuta el comando `pyrcc5 -o libs/resources.py resources.qrc`. Este comando compila el archivo de recursos `.qrc` en un archivo de Python que contiene los recursos necesarios para la interfaz de usuario de LabelImg.\n",
    "\n",
    "Estos comandos son necesarios para configurar correctamente la herramienta LabelImg en diferentes sistemas operativos, asegurando que esté lista para su uso posterior en el etiquetado de imágenes.\n",
    "\n"
   ]
  },
  {
   "cell_type": "code",
   "execution_count": 7,
   "metadata": {},
   "outputs": [
    {
     "name": "stderr",
     "output_type": "stream",
     "text": [
      "c:\\Users\\VicPr\\AppData\\Local\\Packages\\PythonSoftwareFoundation.Python.3.10_qbz5n2kfra8p0\\LocalCache\\local-packages\\Python310\\Scripts\\pyrcc5: File does not exist 'resources.qrc'\n"
     ]
    }
   ],
   "source": [
    "if os.name == 'posix':\n",
    "    !make qt5py3\n",
    "if os.name =='nt':\n",
    "    !cd {LABELIMG_PATH} && pyrcc5 -o libs/resources.py resources.qrc"
   ]
  },
  {
   "cell_type": "markdown",
   "metadata": {},
   "source": [
    "Este último comando es utilizado para ejecutar la herramienta LabelImg. \n",
    "\n",
    "1. `!cd {LABELIMG_PATH}`: Este comando cambia el directorio de trabajo actual al directorio donde está ubicada la herramienta LabelImg.\n",
    "\n",
    "2. `&&`: Este operador lógico permite ejecutar múltiples comandos en una sola línea, en secuencia. El segundo comando solo se ejecutará si el primero se ejecuta con éxito.\n",
    "\n",
    "3. `python labelImg.py`: Este comando ejecuta el script `labelImg.py`, que es el archivo principal de la herramienta LabelImg. Al ejecutar este script, se abrirá la interfaz de usuario de LabelImg, que nos permitirá etiquetar manualmente las imágenes.\n",
    "\n",
    "Con este último comando, hemos lanzado la herramienta LabelImg y estamos listos para comenzar a etiquetar nuestras imágenes capturadas anteriormente.\n"
   ]
  },
  {
   "cell_type": "code",
   "execution_count": 8,
   "metadata": {},
   "outputs": [
    {
     "name": "stderr",
     "output_type": "stream",
     "text": [
      "python: can't open file 'c:\\\\Users\\\\VicPr\\\\OneDrive\\\\Documentos\\\\TFODCourse-main\\\\Tensorflow\\\\labelimg\\\\labelImg.py': [Errno 2] No such file or directory\n"
     ]
    }
   ],
   "source": [
    "!cd {LABELIMG_PATH} && python labelImg.py"
   ]
  },
  {
   "cell_type": "markdown",
   "metadata": {},
   "source": [
    "# 6. Move them into a Training and Testing Partition"
   ]
  },
  {
   "cell_type": "code",
   "execution_count": null,
   "metadata": {},
   "outputs": [],
   "source": [
    "#SE REALIZO EN LA PARTE DE TRAINING AND DETECION:)"
   ]
  },
  {
   "cell_type": "markdown",
   "metadata": {},
   "source": [
    "# OPTIONAL - 7. Compress them for Colab Training"
   ]
  },
  {
   "cell_type": "markdown",
   "metadata": {},
   "source": [
    "En esta parte del código, estamos definiendo las rutas para los directorios de entrenamiento y prueba, así como la ruta para el archivo de archivo. \n",
    "\n",
    "1. `TRAIN_PATH = os.path.join('Tensorflow', 'workspace', 'images', 'train')`: Esta línea define la ruta al directorio donde almacenaremos las imágenes de entrenamiento. Utiliza la función `os.path.join()` para construir la ruta de manera portátil.\n",
    "\n",
    "2. `TEST_PATH = os.path.join('Tensorflow', 'workspace', 'images', 'test')`: Aquí definimos la ruta al directorio donde almacenaremos las imágenes de prueba. Al igual que en la línea anterior, se utiliza `os.path.join()` para construir la ruta.\n",
    "\n",
    "3. `ARCHIVE_PATH = os.path.join('Tensorflow', 'workspace', 'images', 'archive.tar.gz')`: Esta línea define la ruta para el archivo de archivo que contendrá nuestras imágenes. Utiliza `os.path.join()` para construir la ruta de manera portátil.\n",
    "\n",
    "Estos directorios y archivos serán utilizados más adelante en nuestro flujo de trabajo, para organizar y almacenar nuestras imágenes de entrenamiento y prueba, así como para generar un archivo de archivo que contendrá todas nuestras imágenes."
   ]
  },
  {
   "cell_type": "code",
   "execution_count": 9,
   "metadata": {},
   "outputs": [],
   "source": [
    "TRAIN_PATH = os.path.join('Tensorflow', 'workspace', 'images', 'train')\n",
    "TEST_PATH = os.path.join('Tensorflow', 'workspace', 'images', 'test')\n",
    "ARCHIVE_PATH = os.path.join('Tensorflow', 'workspace', 'images', 'archive.tar.gz')"
   ]
  },
  {
   "cell_type": "markdown",
   "metadata": {},
   "source": [
    "Este comando crea un archivo tar comprimido que contiene los directorios de entrenamiento y prueba. \n",
    "\n",
    "1. `!tar -czf {ARCHIVE_PATH} {TRAIN_PATH} {TEST_PATH}`: \n",
    "   - `tar`: Es el comando utilizado en sistemas Unix para crear, mantener y manipular archivos tar (archivos de archivo).\n",
    "   - `-czf`: Son las opciones utilizadas con el comando tar:\n",
    "     - `-c`: Crea un nuevo archivo tar.\n",
    "     - `-z`: Comprime el archivo usando gzip.\n",
    "     - `-f`: Especifica el nombre del archivo tar que se va a crear.\n",
    "   - `{ARCHIVE_PATH}`: Especifica la ruta y el nombre del archivo tar que se va a crear. Esta ruta fue definida anteriormente en el código.\n",
    "   - `{TRAIN_PATH}` y `{TEST_PATH}`: Son las rutas a los directorios de entrenamiento y prueba que se incluirán en el archivo tar. Estas rutas también fueron definidas anteriormente en el código.\n",
    "\n",
    "En resumen, este comando crea un archivo tar comprimido que contiene los directorios de entrenamiento y prueba, que serán utilizados en el entrenamiento y evaluación de nuestro modelo de aprendizaje automático.\n",
    "\n"
   ]
  },
  {
   "cell_type": "code",
   "execution_count": 10,
   "metadata": {},
   "outputs": [
    {
     "name": "stderr",
     "output_type": "stream",
     "text": [
      "tar: COMMONPROGRAMW6432=C??????????????????????1: Couldn't visit directory: No such file or directory\n",
      "tar: : Couldn't visit directory: No such file or directory\n",
      "tar: Error exit delayed from previous errors.\n"
     ]
    }
   ],
   "source": [
    "!tar -czf {ARCHIVE_PATH} {TRAIN_PATH} {TEST_PATH}"
   ]
  },
  {
   "cell_type": "code",
   "execution_count": null,
   "metadata": {},
   "outputs": [],
   "source": [
    "# Fernando\n",
    "# GPS"
   ]
  }
 ],
 "metadata": {
  "kernelspec": {
   "display_name": "Python 3",
   "language": "python",
   "name": "python3"
  },
  "language_info": {
   "codemirror_mode": {
    "name": "ipython",
    "version": 3
   },
   "file_extension": ".py",
   "mimetype": "text/x-python",
   "name": "python",
   "nbconvert_exporter": "python",
   "pygments_lexer": "ipython3",
   "version": "3.10.11"
  }
 },
 "nbformat": 4,
 "nbformat_minor": 2
}
